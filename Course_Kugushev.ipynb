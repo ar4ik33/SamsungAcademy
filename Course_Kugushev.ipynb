{
 "cells": [
  {
   "cell_type": "code",
   "execution_count": 88,
   "metadata": {},
   "outputs": [],
   "source": [
    "import pandas as pd\n",
    "import numpy as np\n",
    "import matplotlib.pyplot as plt\n",
    "import seaborn as sns\n",
    "from sklearn.model_selection import train_test_split\n",
    "\n",
    "from sklearn import datasets, linear_model\n",
    "from sklearn.metrics import confusion_matrix, f1_score\n",
    "from sklearn.ensemble import RandomForestRegressor\n",
    "from sklearn.metrics import roc_auc_score\n"
   ]
  },
  {
   "cell_type": "code",
   "execution_count": 260,
   "metadata": {},
   "outputs": [],
   "source": [
    "train  = pd.read_csv('Real_Train_chr_data.csv')\n",
    "test = pd.read_csv('Real_Test_chr_data.csv')"
   ]
  },
  {
   "cell_type": "code",
   "execution_count": 261,
   "metadata": {},
   "outputs": [],
   "source": [
    "y = train['donr']\n",
    "X = train.drop(['donr', 'Unnamed: 0'], axis = 1).set_index('ID')"
   ]
  },
  {
   "cell_type": "code",
   "execution_count": 262,
   "metadata": {},
   "outputs": [
    {
     "data": {
      "text/html": [
       "<div>\n",
       "<style scoped>\n",
       "    .dataframe tbody tr th:only-of-type {\n",
       "        vertical-align: middle;\n",
       "    }\n",
       "\n",
       "    .dataframe tbody tr th {\n",
       "        vertical-align: top;\n",
       "    }\n",
       "\n",
       "    .dataframe thead th {\n",
       "        text-align: right;\n",
       "    }\n",
       "</style>\n",
       "<table border=\"1\" class=\"dataframe\">\n",
       "  <thead>\n",
       "    <tr style=\"text-align: right;\">\n",
       "      <th></th>\n",
       "      <th>reg1</th>\n",
       "      <th>reg2</th>\n",
       "      <th>reg3</th>\n",
       "      <th>reg4</th>\n",
       "      <th>home</th>\n",
       "      <th>hinc</th>\n",
       "      <th>genf</th>\n",
       "      <th>avhv</th>\n",
       "      <th>incm</th>\n",
       "      <th>inca</th>\n",
       "      <th>plow</th>\n",
       "      <th>npro</th>\n",
       "      <th>tgif</th>\n",
       "      <th>lgif</th>\n",
       "      <th>rgif</th>\n",
       "      <th>tdon</th>\n",
       "      <th>tlag</th>\n",
       "      <th>agif</th>\n",
       "      <th>chld2</th>\n",
       "      <th>wrat2</th>\n",
       "    </tr>\n",
       "    <tr>\n",
       "      <th>ID</th>\n",
       "      <th></th>\n",
       "      <th></th>\n",
       "      <th></th>\n",
       "      <th></th>\n",
       "      <th></th>\n",
       "      <th></th>\n",
       "      <th></th>\n",
       "      <th></th>\n",
       "      <th></th>\n",
       "      <th></th>\n",
       "      <th></th>\n",
       "      <th></th>\n",
       "      <th></th>\n",
       "      <th></th>\n",
       "      <th></th>\n",
       "      <th></th>\n",
       "      <th></th>\n",
       "      <th></th>\n",
       "      <th></th>\n",
       "      <th></th>\n",
       "    </tr>\n",
       "  </thead>\n",
       "  <tbody>\n",
       "    <tr>\n",
       "      <th>1836</th>\n",
       "      <td>0</td>\n",
       "      <td>0</td>\n",
       "      <td>0</td>\n",
       "      <td>0</td>\n",
       "      <td>1</td>\n",
       "      <td>4</td>\n",
       "      <td>1</td>\n",
       "      <td>123</td>\n",
       "      <td>29</td>\n",
       "      <td>39</td>\n",
       "      <td>16</td>\n",
       "      <td>113</td>\n",
       "      <td>182</td>\n",
       "      <td>17</td>\n",
       "      <td>9</td>\n",
       "      <td>21</td>\n",
       "      <td>14</td>\n",
       "      <td>12.77</td>\n",
       "      <td>1.414214</td>\n",
       "      <td>2.449490</td>\n",
       "    </tr>\n",
       "    <tr>\n",
       "      <th>6494</th>\n",
       "      <td>0</td>\n",
       "      <td>0</td>\n",
       "      <td>0</td>\n",
       "      <td>1</td>\n",
       "      <td>1</td>\n",
       "      <td>4</td>\n",
       "      <td>0</td>\n",
       "      <td>147</td>\n",
       "      <td>19</td>\n",
       "      <td>46</td>\n",
       "      <td>27</td>\n",
       "      <td>87</td>\n",
       "      <td>133</td>\n",
       "      <td>37</td>\n",
       "      <td>18</td>\n",
       "      <td>19</td>\n",
       "      <td>5</td>\n",
       "      <td>16.97</td>\n",
       "      <td>1.732051</td>\n",
       "      <td>0.000000</td>\n",
       "    </tr>\n",
       "    <tr>\n",
       "      <th>113</th>\n",
       "      <td>0</td>\n",
       "      <td>1</td>\n",
       "      <td>0</td>\n",
       "      <td>0</td>\n",
       "      <td>1</td>\n",
       "      <td>2</td>\n",
       "      <td>0</td>\n",
       "      <td>221</td>\n",
       "      <td>118</td>\n",
       "      <td>118</td>\n",
       "      <td>1</td>\n",
       "      <td>117</td>\n",
       "      <td>424</td>\n",
       "      <td>11</td>\n",
       "      <td>9</td>\n",
       "      <td>20</td>\n",
       "      <td>3</td>\n",
       "      <td>12.73</td>\n",
       "      <td>2.000000</td>\n",
       "      <td>2.645751</td>\n",
       "    </tr>\n",
       "    <tr>\n",
       "      <th>2487</th>\n",
       "      <td>0</td>\n",
       "      <td>0</td>\n",
       "      <td>0</td>\n",
       "      <td>0</td>\n",
       "      <td>1</td>\n",
       "      <td>4</td>\n",
       "      <td>1</td>\n",
       "      <td>166</td>\n",
       "      <td>28</td>\n",
       "      <td>41</td>\n",
       "      <td>21</td>\n",
       "      <td>97</td>\n",
       "      <td>304</td>\n",
       "      <td>18</td>\n",
       "      <td>27</td>\n",
       "      <td>10</td>\n",
       "      <td>6</td>\n",
       "      <td>17.13</td>\n",
       "      <td>1.000000</td>\n",
       "      <td>2.449490</td>\n",
       "    </tr>\n",
       "    <tr>\n",
       "      <th>2153</th>\n",
       "      <td>0</td>\n",
       "      <td>1</td>\n",
       "      <td>0</td>\n",
       "      <td>0</td>\n",
       "      <td>1</td>\n",
       "      <td>7</td>\n",
       "      <td>1</td>\n",
       "      <td>184</td>\n",
       "      <td>53</td>\n",
       "      <td>53</td>\n",
       "      <td>15</td>\n",
       "      <td>116</td>\n",
       "      <td>192</td>\n",
       "      <td>114</td>\n",
       "      <td>23</td>\n",
       "      <td>24</td>\n",
       "      <td>12</td>\n",
       "      <td>17.57</td>\n",
       "      <td>0.000000</td>\n",
       "      <td>2.828427</td>\n",
       "    </tr>\n",
       "  </tbody>\n",
       "</table>\n",
       "</div>"
      ],
      "text/plain": [
       "      reg1  reg2  reg3  reg4  home  hinc  genf  avhv  incm  inca  plow  npro  \\\n",
       "ID                                                                             \n",
       "1836     0     0     0     0     1     4     1   123    29    39    16   113   \n",
       "6494     0     0     0     1     1     4     0   147    19    46    27    87   \n",
       "113      0     1     0     0     1     2     0   221   118   118     1   117   \n",
       "2487     0     0     0     0     1     4     1   166    28    41    21    97   \n",
       "2153     0     1     0     0     1     7     1   184    53    53    15   116   \n",
       "\n",
       "      tgif  lgif  rgif  tdon  tlag   agif     chld2     wrat2  \n",
       "ID                                                             \n",
       "1836   182    17     9    21    14  12.77  1.414214  2.449490  \n",
       "6494   133    37    18    19     5  16.97  1.732051  0.000000  \n",
       "113    424    11     9    20     3  12.73  2.000000  2.645751  \n",
       "2487   304    18    27    10     6  17.13  1.000000  2.449490  \n",
       "2153   192   114    23    24    12  17.57  0.000000  2.828427  "
      ]
     },
     "execution_count": 262,
     "metadata": {},
     "output_type": "execute_result"
    }
   ],
   "source": [
    "X['chld2'] = [np.sqrt(x) for x in X['chld'].values]\n",
    "X['wrat2'] = [np.sqrt(x) for x in X['wrat'].values]\n",
    "X = X.drop('chld',axis=1)\n",
    "X = X.drop('wrat',axis =1)\n",
    "test['chld2'] = [np.sqrt(x) for x in test['chld'].values]\n",
    "test['wrat2'] = [np.sqrt(x) for x in test['wrat'].values]\n",
    "test = test.drop('chld',axis=1)\n",
    "test = test.drop('wrat',axis =1)\n",
    "X.head()"
   ]
  },
  {
   "cell_type": "code",
   "execution_count": 263,
   "metadata": {},
   "outputs": [
    {
     "data": {
      "text/plain": [
       "Unnamed: 0    3218\n",
       "ID            4201\n",
       "reg1             2\n",
       "reg2             2\n",
       "reg3             2\n",
       "reg4             2\n",
       "home             2\n",
       "chld             6\n",
       "hinc             7\n",
       "genf             2\n",
       "wrat            10\n",
       "avhv           381\n",
       "incm           152\n",
       "inca           156\n",
       "plow            77\n",
       "npro           150\n",
       "tgif           362\n",
       "lgif           168\n",
       "rgif            86\n",
       "tdon            35\n",
       "tlag            30\n",
       "agif          1789\n",
       "donr             2\n",
       "dtype: int64"
      ]
     },
     "execution_count": 263,
     "metadata": {},
     "output_type": "execute_result"
    }
   ],
   "source": [
    "train.nunique()"
   ]
  },
  {
   "cell_type": "code",
   "execution_count": 264,
   "metadata": {},
   "outputs": [
    {
     "data": {
      "text/plain": [
       "<bound method NDFrame.head of       reg1  reg2  reg3  reg4  home     chld2  hinc  genf     wrat2  avhv  \\\n",
       "ID                                                                         \n",
       "1836     0     0     0     0     1  1.414214     4     1  2.449490   123   \n",
       "6494     0     0     0     1     1  1.732051     4     0  0.000000   147   \n",
       "113      0     1     0     0     1  2.000000     2     0  2.645751   221   \n",
       "2487     0     0     0     0     1  1.000000     4     1  2.449490   166   \n",
       "2153     0     1     0     0     1  0.000000     7     1  2.828427   184   \n",
       "...    ...   ...   ...   ...   ...       ...   ...   ...       ...   ...   \n",
       "7561     0     0     0     1     1  2.000000     3     0  3.000000   185   \n",
       "4762     0     1     0     0     1  1.414214     4     0  2.828427   180   \n",
       "4872     1     0     0     0     1  0.000000     4     1  2.828427   234   \n",
       "5528     0     1     0     0     1  1.000000     5     1  2.828427   128   \n",
       "1711     0     0     0     0     0  1.414214     4     0  2.828427   141   \n",
       "\n",
       "      plow  npro  lgif  tdon  tlag   agif  \n",
       "ID                                         \n",
       "1836    16   113    17    21    14  12.77  \n",
       "6494    27    87    37    19     5  16.97  \n",
       "113      1   117    11    20     3  12.73  \n",
       "2487    21    97    18    10     6  17.13  \n",
       "2153    15   116   114    24    12  17.57  \n",
       "...    ...   ...   ...   ...   ...    ...  \n",
       "7561     1    88    10    21     6   6.51  \n",
       "4762    16   107     4    17     3   5.19  \n",
       "4872     0    55    32    19    18  17.51  \n",
       "5528    13    15     7    19     3   4.84  \n",
       "1711    31    72    12    18     6   4.61  \n",
       "\n",
       "[4201 rows x 16 columns]>"
      ]
     },
     "execution_count": 264,
     "metadata": {},
     "output_type": "execute_result"
    }
   ],
   "source": [
    "X[feat_1].head"
   ]
  },
  {
   "cell_type": "code",
   "execution_count": 265,
   "metadata": {},
   "outputs": [],
   "source": [
    "feat = ['reg1', 'reg2', 'reg3', 'reg4', 'home', 'chld',\n",
    "       'hinc', 'genf', 'wrat', 'avhv', 'incm', 'inca', 'plow', 'npro', 'tgif',\n",
    "       'lgif', 'rgif', 'tdon', 'tlag', 'agif']\n",
    "feat_1 = ['reg1', 'reg2', 'reg3', 'reg4', 'home', 'chld2',\n",
    "       'hinc', 'genf', 'wrat2', 'avhv', 'plow', 'npro',\n",
    "       'lgif', 'tdon', 'tlag', 'agif']"
   ]
  },
  {
   "cell_type": "code",
   "execution_count": 269,
   "metadata": {},
   "outputs": [],
   "source": [
    "result = X[feat_1]"
   ]
  },
  {
   "cell_type": "code",
   "execution_count": 270,
   "metadata": {
    "scrolled": true
   },
   "outputs": [
    {
     "name": "stdout",
     "output_type": "stream",
     "text": [
      "           reg1      reg2      reg3      reg4      home     chld2      hinc  \\\n",
      "reg1   1.000000 -0.363011 -0.185071 -0.196683  0.000627 -0.050008 -0.001800   \n",
      "reg2  -0.363011  1.000000 -0.270419 -0.287386  0.015165  0.012630  0.006475   \n",
      "reg3  -0.185071 -0.270419  1.000000 -0.146516 -0.011988 -0.015619 -0.025929   \n",
      "reg4  -0.196683 -0.287386 -0.146516  1.000000  0.004844  0.015119  0.001656   \n",
      "home   0.000627  0.015165 -0.011988  0.004844  1.000000 -0.098323  0.010875   \n",
      "chld2 -0.050008  0.012630 -0.015619  0.015119 -0.098323  1.000000  0.010165   \n",
      "hinc  -0.001800  0.006475 -0.025929  0.001656  0.010875  0.010165  1.000000   \n",
      "genf   0.012166  0.009674 -0.010361  0.010516 -0.008402  0.023389  0.025054   \n",
      "wrat2 -0.018976  0.042561 -0.006116 -0.052452  0.067185 -0.064493  0.016701   \n",
      "avhv   0.015903  0.000537 -0.001258 -0.023644  0.056803  0.010759  0.004956   \n",
      "plow  -0.023068 -0.005375  0.003272  0.019444 -0.048515  0.008028 -0.020391   \n",
      "npro   0.014727 -0.013401 -0.012891 -0.000311  0.040144 -0.049361  0.000710   \n",
      "lgif  -0.007704  0.018015  0.029377 -0.008298  0.008893 -0.012576 -0.011506   \n",
      "tdon  -0.003979 -0.019223 -0.007002  0.020682 -0.001489  0.048018 -0.013740   \n",
      "tlag   0.001629 -0.056647  0.057957  0.007853 -0.027999  0.020399 -0.003907   \n",
      "agif   0.000240 -0.003797  0.036179  0.007884  0.021992  0.000301 -0.017022   \n",
      "\n",
      "           genf     wrat2      avhv      plow      npro      lgif      tdon  \\\n",
      "reg1   0.012166 -0.018976  0.015903 -0.023068  0.014727 -0.007704 -0.003979   \n",
      "reg2   0.009674  0.042561  0.000537 -0.005375 -0.013401  0.018015 -0.019223   \n",
      "reg3  -0.010361 -0.006116 -0.001258  0.003272 -0.012891  0.029377 -0.007002   \n",
      "reg4   0.010516 -0.052452 -0.023644  0.019444 -0.000311 -0.008298  0.020682   \n",
      "home  -0.008402  0.067185  0.056803 -0.048515  0.040144  0.008893 -0.001489   \n",
      "chld2  0.023389 -0.064493  0.010759  0.008028 -0.049361 -0.012576  0.048018   \n",
      "hinc   0.025054  0.016701  0.004956 -0.020391  0.000710 -0.011506 -0.013740   \n",
      "genf   1.000000 -0.037164 -0.020656  0.005654  0.004834  0.030196  0.014319   \n",
      "wrat2 -0.037164  1.000000  0.014533 -0.027047 -0.003194  0.022907 -0.021317   \n",
      "avhv  -0.020656  0.014533  1.000000 -0.640300  0.020037  0.018146 -0.032492   \n",
      "plow   0.005654 -0.027047 -0.640300  1.000000 -0.046416 -0.006361  0.029005   \n",
      "npro   0.004834 -0.003194  0.020037 -0.046416  1.000000 -0.005326 -0.023542   \n",
      "lgif   0.030196  0.022907  0.018146 -0.006361 -0.005326  1.000000 -0.017404   \n",
      "tdon   0.014319 -0.021317 -0.032492  0.029005 -0.023542 -0.017404  1.000000   \n",
      "tlag   0.033471 -0.032285  0.014761  0.009470 -0.015183  0.002412  0.000299   \n",
      "agif   0.034904 -0.002895  0.007878 -0.011819 -0.006773  0.611697 -0.015959   \n",
      "\n",
      "           tlag      agif  \n",
      "reg1   0.001629  0.000240  \n",
      "reg2  -0.056647 -0.003797  \n",
      "reg3   0.057957  0.036179  \n",
      "reg4   0.007853  0.007884  \n",
      "home  -0.027999  0.021992  \n",
      "chld2  0.020399  0.000301  \n",
      "hinc  -0.003907 -0.017022  \n",
      "genf   0.033471  0.034904  \n",
      "wrat2 -0.032285 -0.002895  \n",
      "avhv   0.014761  0.007878  \n",
      "plow   0.009470 -0.011819  \n",
      "npro  -0.015183 -0.006773  \n",
      "lgif   0.002412  0.611697  \n",
      "tdon   0.000299 -0.015959  \n",
      "tlag   1.000000  0.003308  \n",
      "agif   0.003308  1.000000  \n"
     ]
    },
    {
     "data": {
      "image/png": "[encoded data removed]",
      "text/plain": [
       "<Figure size 1080x720 with 2 Axes>"
      ]
     },
     "metadata": {},
     "output_type": "display_data"
    }
   ],
   "source": [
    "plt.figure(figsize = (15,10))\n",
    "\n",
    "sns.set(font_scale=1.4)\n",
    "\n",
    "corr_matrix = result.corr()\n",
    "print(result.corr())\n",
    "corr_matrix = np.round(corr_matrix, 2)\n",
    "corr_matrix[np.abs(corr_matrix) < 0.2] = 0  # Проверьте, что будет если убрать маленькие корреляции\n",
    "\n",
    "sns.heatmap(corr_matrix, annot=True, linewidths=.5, cmap='coolwarm')\n",
    "\n",
    "plt.title('Correlation matrix')\n",
    "plt.show()"
   ]
  },
  {
   "cell_type": "code",
   "execution_count": 271,
   "metadata": {},
   "outputs": [],
   "source": [
    "regr = linear_model.LogisticRegression(random_state=0)\n",
    "regr1 =  RandomForestRegressor(n_estimators=80,\n",
    "                               oob_score=True,\n",
    "                               random_state=1)"
   ]
  },
  {
   "cell_type": "code",
   "execution_count": null,
   "metadata": {},
   "outputs": [],
   "source": []
  },
  {
   "cell_type": "code",
   "execution_count": 272,
   "metadata": {},
   "outputs": [],
   "source": [
    "X_1 = X[feat_1]"
   ]
  },
  {
   "cell_type": "code",
   "execution_count": 273,
   "metadata": {},
   "outputs": [],
   "source": [
    "X_train, X_test, y_train, y_test = train_test_split(X_1, y, test_size=0.3, random_state=42)"
   ]
  },
  {
   "cell_type": "code",
   "execution_count": 274,
   "metadata": {},
   "outputs": [
    {
     "data": {
      "text/plain": [
       "RandomForestRegressor(n_estimators=80, oob_score=True, random_state=1)"
      ]
     },
     "execution_count": 274,
     "metadata": {},
     "output_type": "execute_result"
    }
   ],
   "source": [
    "regr1.fit(X_train, y_train)"
   ]
  },
  {
   "cell_type": "code",
   "execution_count": 275,
   "metadata": {},
   "outputs": [],
   "source": [
    "y_pred = regr1.predict(X_test)"
   ]
  },
  {
   "cell_type": "code",
   "execution_count": 276,
   "metadata": {},
   "outputs": [],
   "source": [
    "for i in range(len(y_pred)):\n",
    "    if y_pred[i] <= 0.5:\n",
    "        y_pred[i] = 0\n",
    "    else:\n",
    "        y_pred[i] = 1"
   ]
  },
  {
   "cell_type": "code",
   "execution_count": 277,
   "metadata": {},
   "outputs": [
    {
     "data": {
      "text/plain": [
       "<matplotlib.axes._subplots.AxesSubplot at 0x20ce45603a0>"
      ]
     },
     "execution_count": 277,
     "metadata": {},
     "output_type": "execute_result"
    },
    {
     "data": {
      "image/png": "[encoded data removed]",
      "text/plain": [
       "<Figure size 432x288 with 2 Axes>"
      ]
     },
     "metadata": {},
     "output_type": "display_data"
    }
   ],
   "source": [
    "confusion_matrix(y_test, y_pred)\n",
    "sns.heatmap(confusion_matrix(y_test,y_pred),annot=True,fmt='3.0f',cmap=\"summer\")"
   ]
  },
  {
   "cell_type": "code",
   "execution_count": 278,
   "metadata": {},
   "outputs": [
    {
     "data": {
      "text/plain": [
       "0.8796812749003984"
      ]
     },
     "execution_count": 278,
     "metadata": {},
     "output_type": "execute_result"
    }
   ],
   "source": [
    "f1_score(y_test, y_pred)"
   ]
  },
  {
   "cell_type": "code",
   "execution_count": 281,
   "metadata": {},
   "outputs": [
    {
     "data": {
      "text/plain": [
       "RandomForestRegressor(n_estimators=80, oob_score=True, random_state=1)"
      ]
     },
     "execution_count": 281,
     "metadata": {},
     "output_type": "execute_result"
    }
   ],
   "source": [
    "fin_mod = RandomForestRegressor(n_estimators=80,\n",
    "                               oob_score=True,\n",
    "                               random_state=1)\n",
    "fin_mod.fit(X_1, y)"
   ]
  },
  {
   "cell_type": "code",
   "execution_count": 285,
   "metadata": {},
   "outputs": [],
   "source": [
    "y_fin = fin_mod.predict(test[feat_1])\n",
    "for i in range(len(y_fin)):\n",
    "    if y_fin[i] <= 0.5:\n",
    "        y_fin[i] = 0\n",
    "    else:\n",
    "        y_fin[i] = 1"
   ]
  },
  {
   "cell_type": "code",
   "execution_count": 286,
   "metadata": {},
   "outputs": [],
   "source": [
    "y_fin_df = pd.DataFrame(y_fin, columns=['donr'])"
   ]
  },
  {
   "cell_type": "code",
   "execution_count": 287,
   "metadata": {},
   "outputs": [
    {
     "data": {
      "text/html": [
       "<div>\n",
       "<style scoped>\n",
       "    .dataframe tbody tr th:only-of-type {\n",
       "        vertical-align: middle;\n",
       "    }\n",
       "\n",
       "    .dataframe tbody tr th {\n",
       "        vertical-align: top;\n",
       "    }\n",
       "\n",
       "    .dataframe thead th {\n",
       "        text-align: right;\n",
       "    }\n",
       "</style>\n",
       "<table border=\"1\" class=\"dataframe\">\n",
       "  <thead>\n",
       "    <tr style=\"text-align: right;\">\n",
       "      <th></th>\n",
       "      <th>donr</th>\n",
       "    </tr>\n",
       "  </thead>\n",
       "  <tbody>\n",
       "    <tr>\n",
       "      <th>0</th>\n",
       "      <td>0.0</td>\n",
       "    </tr>\n",
       "    <tr>\n",
       "      <th>1</th>\n",
       "      <td>1.0</td>\n",
       "    </tr>\n",
       "    <tr>\n",
       "      <th>2</th>\n",
       "      <td>0.0</td>\n",
       "    </tr>\n",
       "    <tr>\n",
       "      <th>3</th>\n",
       "      <td>0.0</td>\n",
       "    </tr>\n",
       "    <tr>\n",
       "      <th>4</th>\n",
       "      <td>0.0</td>\n",
       "    </tr>\n",
       "  </tbody>\n",
       "</table>\n",
       "</div>"
      ],
      "text/plain": [
       "   donr\n",
       "0   0.0\n",
       "1   1.0\n",
       "2   0.0\n",
       "3   0.0\n",
       "4   0.0"
      ]
     },
     "execution_count": 287,
     "metadata": {},
     "output_type": "execute_result"
    }
   ],
   "source": [
    "y_fin_df.head()"
   ]
  },
  {
   "cell_type": "code",
   "execution_count": 288,
   "metadata": {},
   "outputs": [],
   "source": [
    "\n",
    "filename = '201227_Kugushev_2.csv'\n",
    "y_fin_df.to_csv(filename, index=None)"
   ]
  },
  {
   "cell_type": "code",
   "execution_count": null,
   "metadata": {},
   "outputs": [],
   "source": []
  }
 ],
 "metadata": {
  "kernelspec": {
   "display_name": "Python 3",
   "language": "python",
   "name": "python3"
  },
  "language_info": {
   "codemirror_mode": {
    "name": "ipython",
    "version": 3
   },
   "file_extension": ".py",
   "mimetype": "text/x-python",
   "name": "python",
   "nbconvert_exporter": "python",
   "pygments_lexer": "ipython3",
   "version": "3.8.3"
  }
 },
 "nbformat": 4,
 "nbformat_minor": 4
}
